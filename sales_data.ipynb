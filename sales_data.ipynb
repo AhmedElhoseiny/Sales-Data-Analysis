{
 "cells": [
  {
   "cell_type": "code",
   "execution_count": 2,
   "metadata": {},
   "outputs": [],
   "source": [
    "import pandas as pd\n",
    "import matplotlib.pyplot as plt\n",
    "import seaborn as sns\n"
   ]
  },
  {
   "cell_type": "code",
   "execution_count": 3,
   "metadata": {},
   "outputs": [],
   "source": [
    "\n",
    "# Ensure plots are displayed in the notebook\n",
    "%matplotlib inline\n"
   ]
  },
  {
   "cell_type": "code",
   "execution_count": 4,
   "metadata": {},
   "outputs": [],
   "source": [
    "\n",
    "# Load the dataset\n",
    "data = pd.read_csv('sales_data.csv')\n"
   ]
  },
  {
   "cell_type": "code",
   "execution_count": 6,
   "metadata": {},
   "outputs": [
    {
     "data": {
      "text/html": [
       "<div>\n",
       "<style scoped>\n",
       "    .dataframe tbody tr th:only-of-type {\n",
       "        vertical-align: middle;\n",
       "    }\n",
       "\n",
       "    .dataframe tbody tr th {\n",
       "        vertical-align: top;\n",
       "    }\n",
       "\n",
       "    .dataframe thead th {\n",
       "        text-align: right;\n",
       "    }\n",
       "</style>\n",
       "<table border=\"1\" class=\"dataframe\">\n",
       "  <thead>\n",
       "    <tr style=\"text-align: right;\">\n",
       "      <th></th>\n",
       "      <th>date</th>\n",
       "      <th>product</th>\n",
       "      <th>category</th>\n",
       "      <th>price</th>\n",
       "      <th>quantity</th>\n",
       "      <th>revenue</th>\n",
       "    </tr>\n",
       "  </thead>\n",
       "  <tbody>\n",
       "    <tr>\n",
       "      <th>0</th>\n",
       "      <td>2022-01-01</td>\n",
       "      <td>Smartphone</td>\n",
       "      <td>Electronics</td>\n",
       "      <td>600.0</td>\n",
       "      <td>10.0</td>\n",
       "      <td>6000.0</td>\n",
       "    </tr>\n",
       "    <tr>\n",
       "      <th>1</th>\n",
       "      <td>2022-01-01</td>\n",
       "      <td>Laptop</td>\n",
       "      <td>Electronics</td>\n",
       "      <td>1200.0</td>\n",
       "      <td>5.0</td>\n",
       "      <td>6000.0</td>\n",
       "    </tr>\n",
       "    <tr>\n",
       "      <th>2</th>\n",
       "      <td>2022-01-02</td>\n",
       "      <td>T-Shirt</td>\n",
       "      <td>Clothing</td>\n",
       "      <td>20.0</td>\n",
       "      <td>50.0</td>\n",
       "      <td>1000.0</td>\n",
       "    </tr>\n",
       "    <tr>\n",
       "      <th>3</th>\n",
       "      <td>2022-01-03</td>\n",
       "      <td>Headphones</td>\n",
       "      <td>Electronics</td>\n",
       "      <td>100.0</td>\n",
       "      <td>20.0</td>\n",
       "      <td>2000.0</td>\n",
       "    </tr>\n",
       "    <tr>\n",
       "      <th>4</th>\n",
       "      <td>2022-01-04</td>\n",
       "      <td>T-Shirt</td>\n",
       "      <td>Clothing</td>\n",
       "      <td>20.0</td>\n",
       "      <td>25.0</td>\n",
       "      <td>500.0</td>\n",
       "    </tr>\n",
       "  </tbody>\n",
       "</table>\n",
       "</div>"
      ],
      "text/plain": [
       "         date     product     category   price  quantity  revenue\n",
       "0  2022-01-01  Smartphone  Electronics   600.0      10.0   6000.0\n",
       "1  2022-01-01      Laptop  Electronics  1200.0       5.0   6000.0\n",
       "2  2022-01-02     T-Shirt     Clothing    20.0      50.0   1000.0\n",
       "3  2022-01-03  Headphones  Electronics   100.0      20.0   2000.0\n",
       "4  2022-01-04     T-Shirt     Clothing    20.0      25.0    500.0"
      ]
     },
     "execution_count": 6,
     "metadata": {},
     "output_type": "execute_result"
    }
   ],
   "source": [
    "\n",
    "# Display the first few rows of the dataset\n",
    "data.head()\n"
   ]
  },
  {
   "cell_type": "code",
   "execution_count": 7,
   "metadata": {},
   "outputs": [
    {
     "name": "stdout",
     "output_type": "stream",
     "text": [
      "date        0\n",
      "product     0\n",
      "category    0\n",
      "price       2\n",
      "quantity    1\n",
      "revenue     1\n",
      "dtype: int64\n"
     ]
    }
   ],
   "source": [
    "\n",
    "# Check for missing values\n",
    "data.isnull().sum()\n"
   ]
  },
  {
   "cell_type": "code",
   "execution_count": 9,
   "metadata": {},
   "outputs": [
    {
     "data": {
      "text/plain": [
       "date         object\n",
       "product      object\n",
       "category     object\n",
       "price       float64\n",
       "quantity    float64\n",
       "revenue     float64\n",
       "dtype: object"
      ]
     },
     "execution_count": 9,
     "metadata": {},
     "output_type": "execute_result"
    }
   ],
   "source": [
    "\n",
    "# Display the data types of each column\n",
    "data.dtypes\n"
   ]
  },
  {
   "cell_type": "code",
   "execution_count": 10,
   "metadata": {},
   "outputs": [],
   "source": [
    "\n",
    "# Convert the 'date' column to datetime format\n",
    "data['date'] = pd.to_datetime(data['date'])\n"
   ]
  },
  {
   "cell_type": "code",
   "execution_count": 11,
   "metadata": {},
   "outputs": [
    {
     "name": "stdout",
     "output_type": "stream",
     "text": [
      "Total Revenue: $758330.00\n"
     ]
    }
   ],
   "source": [
    "\n",
    "# Calculate total revenue generated by the company over the course of the year\n",
    "total_revenue = data['revenue'].sum()\n",
    "print(f\"Total Revenue: ${total_revenue:.2f}\")\n"
   ]
  },
  {
   "cell_type": "code",
   "execution_count": 12,
   "metadata": {},
   "outputs": [
    {
     "name": "stdout",
     "output_type": "stream",
     "text": [
      "Product with Highest Revenue: Smartphone ($434400.00)\n"
     ]
    }
   ],
   "source": [
    "\n",
    "# Find the product with the highest revenue\n",
    "product_revenue = data.groupby('product')['revenue'].sum()\n",
    "max_revenue_product = product_revenue.idxmax()\n",
    "max_revenue = product_revenue.max()\n",
    "print(f\"Product with Highest Revenue: {max_revenue_product} (${max_revenue:.2f})\")\n"
   ]
  },
  {
   "cell_type": "code",
   "execution_count": 13,
   "metadata": {},
   "outputs": [
    {
     "name": "stdout",
     "output_type": "stream",
     "text": [
      "Average Price of Product Sold: $211.23\n"
     ]
    }
   ],
   "source": [
    "\n",
    "# Calculate the average price of a product sold by the company\n",
    "average_price = data['price'].mean()\n",
    "print(f\"Average Price of Product Sold: ${average_price:.2f}\")\n"
   ]
  },
  {
   "cell_type": "code",
   "execution_count": 14,
   "metadata": {},
   "outputs": [
    {
     "name": "stdout",
     "output_type": "stream",
     "text": [
      "Total Quantity of Products Sold: 5360.0\n"
     ]
    }
   ],
   "source": [
    "\n",
    "# Calculate the total quantity of products sold by the company\n",
    "total_quantity = data['quantity'].sum()\n",
    "print(f\"Total Quantity of Products Sold: {total_quantity}\")\n"
   ]
  },
  {
   "cell_type": "code",
   "execution_count": 15,
   "metadata": {},
   "outputs": [
    {
     "name": "stdout",
     "output_type": "stream",
     "text": [
      "Category with Highest Revenue: Electronics ($516080.00)\n"
     ]
    }
   ],
   "source": [
    "\n",
    "# Find the category with the highest revenue\n",
    "category_revenue = data.groupby('category')['revenue'].sum()\n",
    "max_revenue_category = category_revenue.idxmax()\n",
    "max_category_revenue = category_revenue.max()\n",
    "print(f\"Category with Highest Revenue: {max_revenue_category} (${max_category_revenue:.2f})\")\n"
   ]
  },
  {
   "cell_type": "code",
   "execution_count": 16,
   "metadata": {},
   "outputs": [
    {
     "name": "stdout",
     "output_type": "stream",
     "text": [
      "Average Revenue Per Sale: $2060.68\n"
     ]
    }
   ],
   "source": [
    "\n",
    "# Calculate the average revenue per sale\n",
    "average_revenue_per_sale = data['revenue'].mean()\n",
    "print(f\"Average Revenue Per Sale: ${average_revenue_per_sale:.2f}\")\n"
   ]
  },
  {
   "cell_type": "code",
   "execution_count": 17,
   "metadata": {},
   "outputs": [],
   "source": [
    "\n",
    "# Calculate the total revenue generated in each quarter of the year\n",
    "# Extract quarter information from the date\n",
    "data['quarter'] = data['date'].dt.to_period('Q')\n"
   ]
  },
  {
   "cell_type": "code",
   "execution_count": 18,
   "metadata": {},
   "outputs": [
    {
     "name": "stdout",
     "output_type": "stream",
     "text": [
      "Total Revenue Generated in Each Quarter:\n",
      "quarter\n",
      "2022Q1    182100.0\n",
      "2022Q2    183970.0\n",
      "2022Q3    197680.0\n",
      "2022Q4    194580.0\n",
      "Freq: Q-DEC, Name: revenue, dtype: float64\n"
     ]
    }
   ],
   "source": [
    "\n",
    "quarter_revenue = data.groupby('quarter')['revenue'].sum()\n",
    "print(\"Total Revenue Generated in Each Quarter:\")\n",
    "print(quarter_revenue)\n"
   ]
  },
  {
   "cell_type": "code",
   "execution_count": 19,
   "metadata": {},
   "outputs": [
    {
     "data": {
      "image/png": "[encoded data removed]",
      "text/plain": [
       "<Figure size 1000x600 with 1 Axes>"
      ]
     },
     "metadata": {},
     "output_type": "display_data"
    }
   ],
   "source": [
    "\n",
    "# Visualization of total revenue generated in each quarter\n",
    "plt.figure(figsize=(10, 6))\n",
    "sns.barplot(x=quarter_revenue.index.astype(str), y=quarter_revenue.values)\n",
    "plt.title('Total Revenue Generated in Each Quarter')\n",
    "plt.xlabel('Quarter')\n",
    "plt.ylabel('Revenue')\n",
    "plt.show()\n"
   ]
  },
  {
   "cell_type": "code",
   "execution_count": 21,
   "metadata": {},
   "outputs": [],
   "source": [
    "\n",
    "# Summary Report\n",
    "summary = f\"\"\"\n",
    "Sales Data Analysis Report\n",
    "\n",
    "1. Total Revenue Generated by the Company Over the Year:\n",
    "   ${total_revenue:.2f}\n",
    "\n",
    "2. Product with the Highest Revenue:\n",
    "   {max_revenue_product} (${max_revenue:.2f})\n",
    "\n",
    "3. Average Price of a Product Sold:\n",
    "   ${average_price:.2f}\n",
    "\n",
    "4. Total Quantity of Products Sold:\n",
    "   {total_quantity}\n",
    "\n",
    "5. Category with the Highest Revenue:\n",
    "   {max_revenue_category} (${max_category_revenue:.2f})\n",
    "\n",
    "6. Average Revenue Per Sale:\n",
    "   ${average_revenue_per_sale:.2f}\n",
    "\n",
    "7. Total Revenue Generated in Each Quarter:\n",
    "   {quarter_revenue.to_string()}\n",
    "\n",
    "Please find the visualizations in the attached report.\n",
    "\n",
    "Thank you.\n",
    "\"\"\"\n",
    "\n"
   ]
  },
  {
   "cell_type": "code",
   "execution_count": 24,
   "metadata": {},
   "outputs": [
    {
     "name": "stdout",
     "output_type": "stream",
     "text": [
      "\n",
      "Sales Data Analysis Report\n",
      "\n",
      "1. Total Revenue Generated by the Company Over the Year:\n",
      "   $758330.00\n",
      "\n",
      "2. Product with the Highest Revenue:\n",
      "   Smartphone ($434400.00)\n",
      "\n",
      "3. Average Price of a Product Sold:\n",
      "   $211.23\n",
      "\n",
      "4. Total Quantity of Products Sold:\n",
      "   5360.0\n",
      "\n",
      "5. Category with the Highest Revenue:\n",
      "   Electronics ($516080.00)\n",
      "\n",
      "6. Average Revenue Per Sale:\n",
      "   $2060.68\n",
      "\n",
      "7. Total Revenue Generated in Each Quarter:\n",
      "   quarter\n",
      "2022Q1    182100.0\n",
      "2022Q2    183970.0\n",
      "2022Q3    197680.0\n",
      "2022Q4    194580.0\n",
      "Freq: Q-DEC\n",
      "\n",
      "Please find the visualizations in the attached report.\n",
      "\n",
      "Thank you.\n",
      "\n"
     ]
    }
   ],
   "source": [
    "\n",
    "print(summary)"
   ]
  },
  {
   "cell_type": "code",
   "execution_count": null,
   "metadata": {},
   "outputs": [],
   "source": []
  }
 ],
 "metadata": {
  "kernelspec": {
   "display_name": "Python 3",
   "language": "python",
   "name": "python3"
  },
  "language_info": {
   "codemirror_mode": {
    "name": "ipython",
    "version": 3
   },
   "file_extension": ".py",
   "mimetype": "text/x-python",
   "name": "python",
   "nbconvert_exporter": "python",
   "pygments_lexer": "ipython3",
   "version": "3.10.7"
  }
 },
 "nbformat": 4,
 "nbformat_minor": 2
}
